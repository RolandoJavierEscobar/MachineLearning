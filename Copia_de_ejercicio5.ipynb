{
  "cells": [
    {
      "cell_type": "markdown",
      "metadata": {
        "id": "view-in-github",
        "colab_type": "text"
      },
      "source": [
        "<a href=\"https://colab.research.google.com/github/RolandoJavierEscobar/MachineLearning/blob/main/Copia_de_ejercicio5.ipynb\" target=\"_parent\"><img src=\"https://colab.research.google.com/assets/colab-badge.svg\" alt=\"Open In Colab\"/></a>"
      ]
    },
    {
      "cell_type": "markdown",
      "metadata": {
        "id": "odSaZZup0JUD"
      },
      "source": [
        "# Ejercicio\n",
        "\n",
        "Escribir una función que reciba un DataFrame con el formato del ejercicio anterior, una lista de meses, y devuelva el balance (ventas - gastos) total en los meses indicados."
      ]
    },
    {
      "cell_type": "markdown",
      "metadata": {
        "id": "8GjVUIAS0JUL"
      },
      "source": [
        "# Solución 1"
      ]
    },
    {
      "cell_type": "code",
      "execution_count": null,
      "metadata": {
        "id": "SKTmENXe0JUM",
        "outputId": "ecff8070-a61c-44eb-bf62-14002d13ed9d"
      },
      "outputs": [
        {
          "output_type": "stream",
          "name": "stdout",
          "text": "18700\n"
        }
      ],
      "source": [
        "import pandas as pd\n",
        "\n",
        "datos = {'Mes':['Enero', 'Febrero', 'Marzo', 'Abril'], 'Ventas':[30500, 35600, 28300, 33900], 'Gastos':[22000, 23400, 18100, 20700]}\n",
        "\n",
        "contabilidad = pd.DataFrame(datos)\n",
        "\n",
        "def balance(contabilidad, meses):\n",
        "    contabilidad['Balance'] = contabilidad.Ventas - contabilidad.Gastos\n",
        "    return contabilidad[contabilidad.Mes.isin(meses)].Balance.sum()\n",
        "\n",
        "print(balance(contabilidad, ['Enero','Marzo']))\n"
      ]
    },
    {
      "cell_type": "markdown",
      "metadata": {
        "id": "1w4_0SW30JUQ"
      },
      "source": [
        "# Solución 2"
      ]
    },
    {
      "cell_type": "code",
      "execution_count": null,
      "metadata": {
        "id": "eBx5tkbB0JUR",
        "outputId": "0ab0f5ea-2687-45d0-f90e-4163c5f2d295"
      },
      "outputs": [
        {
          "output_type": "stream",
          "name": "stdout",
          "text": "18700\n"
        }
      ],
      "source": [
        "import pandas as pd\n",
        "\n",
        "datos = {'Mes':['Enero', 'Febrero', 'Marzo', 'Abril'], 'Ventas':[30500, 35600, 28300, 33900], 'Gastos':[22000, 23400, 18100, 20700]}\n",
        "\n",
        "contabilidad = pd.DataFrame(datos)\n",
        "\n",
        "def balance(contabilidad, meses):\n",
        "    contabilidad['Balance'] = contabilidad.Ventas - contabilidad.Gastos\n",
        "    return contabilidad.set_index('Mes').loc[meses,'Balance'].sum()\n",
        "\n",
        "print(balance(contabilidad, ['Enero','Marzo']))"
      ]
    },
    {
      "cell_type": "code",
      "execution_count": null,
      "metadata": {
        "id": "8rGFLUS90JUS"
      },
      "outputs": [],
      "source": []
    }
  ],
  "metadata": {
    "kernelspec": {
      "display_name": "Python 3",
      "language": "python",
      "name": "python3"
    },
    "language_info": {
      "codemirror_mode": {
        "name": "ipython",
        "version": 3
      },
      "file_extension": ".py",
      "mimetype": "text/x-python",
      "name": "python",
      "nbconvert_exporter": "python",
      "pygments_lexer": "ipython3",
      "version": "3.7.6-final"
    },
    "colab": {
      "provenance": [],
      "include_colab_link": true
    }
  },
  "nbformat": 4,
  "nbformat_minor": 0
}